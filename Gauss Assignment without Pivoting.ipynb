{
 "cells": [
  {
   "cell_type": "code",
   "execution_count": 1,
   "metadata": {},
   "outputs": [
    {
     "name": "stdout",
     "output_type": "stream",
     "text": [
      "Multiplication factor -0.446385\n",
      "[[ 1.04179500e+00  1.21408300e+00]\n",
      " [-3.38925000e-07  3.43013244e+00]]\n",
      "[[-0.421061  ]\n",
      " [-0.05673031]]\n",
      "The solution of the system of linear equations is:  [-0.38489483 -0.01653881]\n"
     ]
    }
   ],
   "source": [
    "import numpy as np\n",
    "def gaussEliminationWithoutPivoting(a,b,d):\n",
    "    n = len(b)\n",
    "    x = np.zeros(n,float)\n",
    "    a = np.round_(a,d)\n",
    "    b= np.round_(b,d)\n",
    "    # print(a)\n",
    "    # print(b)\n",
    "    try:\n",
    "    #Elimination\n",
    "        for k in range(n-1):\n",
    "            if a[k,k] == 0:\n",
    "                raise ZeroDivisionError \n",
    "            for i in range(k+1,n):\n",
    "                if a[k,i] == 0: \n",
    "                    continue\n",
    "                factor = a[i,k]/a[k,k]\n",
    "                factor = round(factor,d)\n",
    "                print(\"Multiplication factor\", factor)\n",
    "                for j in range(k,n):\n",
    "                    a[i,j] = a[i,j] - a[k,j]*factor\n",
    "                b[i] = b[i] - b[k]*factor\n",
    "        print(a)\n",
    "        print(b)\n",
    "\n",
    "    #Back-substitution\n",
    "        x[n-1] = b[n-1]/a[n-1,n-1]\n",
    "        for row in range(n-2,-1,-1):\n",
    "            sum_ax = 0\n",
    "            for col in range(row+1,n):\n",
    "                sum_ax += a[row,col] * x[col]\n",
    "            x[row] = (b[row] - sum_ax) / a[row,row]\n",
    "\n",
    "    except ZeroDivisionError:\n",
    "        print(\"Pivot element is zero.Cannot perform Gauss Elimination without Pivoting.\")\n",
    "    finally:\n",
    "        return x\n",
    "    \n",
    "### MAIN ### \n",
    "a = np.array([[ 1.0417953454595328,  1.2140832859810209],\n",
    "        [-0.46504172468086824,  2.8881838726411693]])\n",
    "b = np.array([[-0.42106134],\n",
    "        [ 0.13122502]])\n",
    "d=6\n",
    "sol = gaussEliminationWithoutPivoting(a,b,d)\n",
    "print(\"The solution of the system of linear equations is: \",sol)"
   ]
  },
  {
   "cell_type": "markdown",
   "metadata": {},
   "source": [
    "**Verification of the output using NumPy**"
   ]
  },
  {
   "cell_type": "code",
   "execution_count": 4,
   "metadata": {},
   "outputs": [
    {
     "name": "stdout",
     "output_type": "stream",
     "text": [
      "Solution verifcation using Numpy: \n",
      "[[-0.38489499]\n",
      " [-0.01653884]]\n"
     ]
    }
   ],
   "source": [
    "print(\"Solution verifcation using Numpy: \")\n",
    "print(np.linalg.solve(a,b))"
   ]
  },
  {
   "cell_type": "code",
   "execution_count": null,
   "metadata": {},
   "outputs": [],
   "source": []
  }
 ],
 "metadata": {
  "kernelspec": {
   "display_name": "Python 3",
   "language": "python",
   "name": "python3"
  },
  "language_info": {
   "codemirror_mode": {
    "name": "ipython",
    "version": 3
   },
   "file_extension": ".py",
   "mimetype": "text/x-python",
   "name": "python",
   "nbconvert_exporter": "python",
   "pygments_lexer": "ipython3",
   "version": "3.8.3"
  }
 },
 "nbformat": 4,
 "nbformat_minor": 4
}
